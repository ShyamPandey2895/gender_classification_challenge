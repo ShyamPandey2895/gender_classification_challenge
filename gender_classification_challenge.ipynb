{
  "cells": [
    {
      "metadata": {
        "_uuid": "bb7c076f2bf8926df54737b339a6ab977261a19b"
      },
      "cell_type": "markdown",
      "source": "**gender_classification_challenge**"
    },
    {
      "metadata": {
        "_cell_guid": "79c7e3d0-c299-4dcb-8224-4455121ee9b0",
        "_uuid": "d629ff2d2480ee46fbb7e2d37f6b5fab8052498a",
        "trusted": true
      },
      "cell_type": "code",
      "source": "from sklearn import tree\nfrom sklearn import svm\nfrom sklearn.linear_model import SGDClassifier\nfrom sklearn.neighbors import KNeighborsClassifier\nfrom sklearn.metrics import accuracy_score",
      "execution_count": null,
      "outputs": []
    },
    {
      "metadata": {
        "trusted": true,
        "_uuid": "e3ee824ca153f308d5aadb94eee4ecb93d97a214"
      },
      "cell_type": "code",
      "source": "# [height, weight, shoe_size]\nX = [[181, 80, 44], [177, 70, 43], [160, 60, 38], [154, 54, 37], [166, 65, 40],\n     [190, 90, 47], [175, 64, 39],\n     [177, 70, 40], [159, 55, 37], [171, 75, 42], [181, 85, 43]]\n\nY = ['male', 'male', 'female', 'female', 'male', 'male', 'female', 'female',\n     'female', 'male', 'male']",
      "execution_count": 27,
      "outputs": []
    },
    {
      "metadata": {
        "trusted": true,
        "scrolled": true,
        "_uuid": "e7060374b4cc91fac613a1efe32d2ee6f62d47c7"
      },
      "cell_type": "code",
      "source": "#I didn't specify any hyperparameter.\n#Model 1\nclf1 = tree.DecisionTreeClassifier()\n#Model 2\nclf2 = svm.SVC()\n#Model 3\nclf3 = SGDClassifier()\n#Model 4\nclf4 = KNeighborsClassifier()\n",
      "execution_count": 37,
      "outputs": []
    },
    {
      "metadata": {
        "trusted": true,
        "_uuid": "c6cd51a79f27beddf748486f409b20f0cc98a993"
      },
      "cell_type": "code",
      "source": "# Training on the dataset\nclf1 = clf1.fit(X, Y)\nclf2 = clf2.fit(X, Y)\nclf3 = clf3.fit(X ,Y)\nclf4 = clf4.fit(X ,Y)",
      "execution_count": 38,
      "outputs": [
        {
          "output_type": "stream",
          "text": "/opt/conda/lib/python3.6/site-packages/sklearn/svm/base.py:196: FutureWarning: The default value of gamma will change from 'auto' to 'scale' in version 0.22 to account better for unscaled features. Set gamma explicitly to 'auto' or 'scale' to avoid this warning.\n  \"avoid this warning.\", FutureWarning)\n/opt/conda/lib/python3.6/site-packages/sklearn/linear_model/stochastic_gradient.py:144: FutureWarning: max_iter and tol parameters have been added in SGDClassifier in 0.19. If both are left unset, they default to max_iter=5 and tol=None. If tol is not None, max_iter defaults to max_iter=1000. From 0.21, default max_iter will be 1000, and default tol will be 1e-3.\n  FutureWarning)\n",
          "name": "stderr"
        }
      ]
    },
    {
      "metadata": {
        "trusted": true,
        "_uuid": "feccfbdc74e414a3573edd93f2ea92d79bb3e5fc"
      },
      "cell_type": "code",
      "source": "# Prediction\ny_pred1=clf1.predict(X)\nprediction1 = clf1.predict([[190, 70, 43]])\ny_pred2=clf2.predict(X)\nprediction2 = clf2.predict([[190, 70, 43]])\ny_pred3=clf3.predict(X)\nprediction3 = clf3.predict([[190, 70, 43]])\ny_pred4=clf4.predict(X)\nprediction4 = clf4.predict([[190, 70, 43]])",
      "execution_count": 46,
      "outputs": []
    },
    {
      "metadata": {
        "trusted": true,
        "_uuid": "b4e180e323061f58943a443de3daee6efc3476e0"
      },
      "cell_type": "code",
      "source": "# Compare the accuracy and result on new data\nacc1=accuracy_score(Y,y_pred1, normalize=False)\nacc2=accuracy_score(Y,y_pred2, normalize=False)\nacc3=accuracy_score(Y,y_pred3, normalize=False)\nacc4=accuracy_score(Y,y_pred4, normalize=False)\n\nprint(acc1,acc2,acc3,acc4)\nprint(prediction1,prediction2,prediction3,prediction4)\n\n#Model 1 DecisionTreeClassifier and Model 2 SVC performed well on this dataset.",
      "execution_count": 47,
      "outputs": [
        {
          "output_type": "stream",
          "text": "11 11 5 8\n['male'] ['male'] ['female'] ['male']\n",
          "name": "stdout"
        }
      ]
    },
    {
      "metadata": {
        "_uuid": "3dd93befca59a1b673a6c23b6b266671e835a51e"
      },
      "cell_type": "markdown",
      "source": "**Conclusion**\n\nThis is a simple example of machine learning. I created 4 different models and compared their performance(accuracy).\n\nIn most situations, the  prediction accuracy(accuracy on out of samples) is our primary goal. To improve the accuracy of the machine learning models, I will expore more methods in the future. Some practical methods are as follow.\n\n1. Add more data\n2. Treat missing and Outlier values\n3. Feature Engineering\n4. Feature Selection\n5. Multiple algorithms(Select the best one.)\n6. Algorithm Tuning\n7. Ensemble methods\n8. Cross Validation\n9. Prevent Over-fitting(Such as adding regularization)"
    }
  ],
  "metadata": {
    "kernelspec": {
      "display_name": "Python 3",
      "language": "python",
      "name": "python3"
    },
    "language_info": {
      "name": "python",
      "version": "3.6.6",
      "mimetype": "text/x-python",
      "codemirror_mode": {
        "name": "ipython",
        "version": 3
      },
      "pygments_lexer": "ipython3",
      "nbconvert_exporter": "python",
      "file_extension": ".py"
    }
  },
  "nbformat": 4,
  "nbformat_minor": 1
}